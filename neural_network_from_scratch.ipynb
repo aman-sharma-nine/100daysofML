{
  "nbformat": 4,
  "nbformat_minor": 0,
  "metadata": {
    "colab": {
      "name": "neural network from scratch.ipynb",
      "version": "0.3.2",
      "provenance": [],
      "include_colab_link": true
    },
    "kernelspec": {
      "name": "python3",
      "display_name": "Python 3"
    }
  },
  "cells": [
    {
      "cell_type": "markdown",
      "metadata": {
        "id": "view-in-github",
        "colab_type": "text"
      },
      "source": [
        "[View in Colaboratory](https://colab.research.google.com/github/aman-sharma-nine/100daysofML/blob/master/neural_network_from_scratch.ipynb)"
      ]
    },
    {
      "metadata": {
        "id": "nXuL0AG245Eh",
        "colab_type": "code",
        "colab": {}
      },
      "cell_type": "code",
      "source": [
        ""
      ],
      "execution_count": 0,
      "outputs": []
    },
    {
      "metadata": {
        "id": "uYI1qj0N46Op",
        "colab_type": "text"
      },
      "cell_type": "markdown",
      "source": [
        "# Neural Network from scratch"
      ]
    },
    {
      "metadata": {
        "id": "Iy4C65qb4vKN",
        "colab_type": "code",
        "colab": {}
      },
      "cell_type": "code",
      "source": [
        "import numpy as np"
      ],
      "execution_count": 0,
      "outputs": []
    },
    {
      "metadata": {
        "id": "pdH88MGK4zel",
        "colab_type": "code",
        "colab": {}
      },
      "cell_type": "code",
      "source": [
        "np."
      ],
      "execution_count": 0,
      "outputs": []
    }
  ]
}