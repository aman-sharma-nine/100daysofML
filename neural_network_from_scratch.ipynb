{
  "nbformat": 4,
  "nbformat_minor": 0,
  "metadata": {
    "colab": {
      "name": "neural network from scratch.ipynb",
      "version": "0.3.2",
      "provenance": [],
      "collapsed_sections": [],
      "include_colab_link": true
    },
    "kernelspec": {
      "name": "python3",
      "display_name": "Python 3"
    }
  },
  "cells": [
    {
      "cell_type": "markdown",
      "metadata": {
        "id": "view-in-github",
        "colab_type": "text"
      },
      "source": [
        "[View in Colaboratory](https://colab.research.google.com/github/aman-sharma-nine/100daysofML/blob/master/neural_network_from_scratch.ipynb)"
      ]
    },
    {
      "metadata": {
        "id": "nXuL0AG245Eh",
        "colab_type": "code",
        "colab": {}
      },
      "cell_type": "code",
      "source": [
        ""
      ],
      "execution_count": 0,
      "outputs": []
    },
    {
      "metadata": {
        "id": "uYI1qj0N46Op",
        "colab_type": "text"
      },
      "cell_type": "markdown",
      "source": [
        "# Neural Network from scratch"
      ]
    },
    {
      "metadata": {
        "id": "entBJCFfAduJ",
        "colab_type": "text"
      },
      "cell_type": "markdown",
      "source": [
        "**Logical computations with Neurons**\n",
        "\n",
        "\n",
        "\n"
      ]
    },
    {
      "metadata": {
        "id": "6AUYtPCkAvJN",
        "colab_type": "text"
      },
      "cell_type": "markdown",
      "source": [
        "![alt text](https://www.safaribooksonline.com/library/view/neural-networks-and/9781492037354/assets/mlst_1003.png)\n"
      ]
    },
    {
      "metadata": {
        "id": "0VE8K3DbBNiC",
        "colab_type": "text"
      },
      "cell_type": "markdown",
      "source": [
        "# **The Perceptron**\n",
        "The perceptron is the simplist neural network. The input values are assicated with a random weight value *w1* . These weights will later be the parameters to optimize our neural net. The input with its weight value w1 comoutes a weighted sum of its input and bias( z = w1*x1+ w2*x2 ....wn*xn +1) \n",
        "Then sigmoid function is applied to get any values converted between 0 and 1."
      ]
    },
    {
      "metadata": {
        "id": "gsYQ7V_16Ond",
        "colab_type": "text"
      },
      "cell_type": "markdown",
      "source": [
        "![alt text](https://www.cs.utexas.edu/~teammco/misc/perceptron/perceptron.png)"
      ]
    },
    {
      "metadata": {
        "id": "Iy4C65qb4vKN",
        "colab_type": "code",
        "colab": {}
      },
      "cell_type": "code",
      "source": [
        "import numpy as np"
      ],
      "execution_count": 0,
      "outputs": []
    },
    {
      "metadata": {
        "id": "pdH88MGK4zel",
        "colab_type": "code",
        "colab": {}
      },
      "cell_type": "code",
      "source": [
        "#Sigmoid Function"
      ],
      "execution_count": 0,
      "outputs": []
    },
    {
      "metadata": {
        "id": "Ie1fCOnk6ODg",
        "colab_type": "code",
        "colab": {}
      },
      "cell_type": "code",
      "source": [
        "def sigmoid (x):\n",
        "  return 1/(1+ np.exp(-x))"
      ],
      "execution_count": 0,
      "outputs": []
    },
    {
      "metadata": {
        "id": "KRPlITS35xRU",
        "colab_type": "code",
        "colab": {}
      },
      "cell_type": "code",
      "source": [
        ""
      ],
      "execution_count": 0,
      "outputs": []
    },
    {
      "metadata": {
        "id": "8mhW_YJM5obf",
        "colab_type": "code",
        "colab": {}
      },
      "cell_type": "code",
      "source": [
        ""
      ],
      "execution_count": 0,
      "outputs": []
    }
  ]
}